{
 "cells": [
  {
   "cell_type": "markdown",
   "metadata": {
    "application/vnd.databricks.v1+cell": {
     "cellMetadata": {
      "byteLimit": 2048000,
      "rowLimit": 10000
     },
     "inputWidgets": {},
     "nuid": "96816ed7-b08a-4ca3-abb9-f99880c3535d",
     "showTitle": false,
     "title": ""
    }
   },
   "source": [
    "\n",
    "## Overview\n",
    "\n",
    "This notebook will show you how to create and query a table or DataFrame that you uploaded to DBFS. [DBFS](https://docs.databricks.com/user-guide/dbfs-databricks-file-system.html) is a Databricks File System that allows you to store data for querying inside of Databricks. This notebook assumes that you have a file already inside of DBFS that you would like to read from.\n",
    "\n",
    "This notebook is written in **Python** so the default cell type is Python. However, you can use different languages by using the `%LANGUAGE` syntax. Python, Scala, SQL, and R are all supported."
   ]
  },
  {
   "cell_type": "code",
   "execution_count": 0,
   "metadata": {
    "application/vnd.databricks.v1+cell": {
     "cellMetadata": {
      "byteLimit": 2048000,
      "rowLimit": 10000
     },
     "inputWidgets": {},
     "nuid": "6482be4c-f067-47c9-b0ac-35c938b94601",
     "showTitle": false,
     "title": ""
    },
    "jupyter": {
     "outputs_hidden": true
    }
   },
   "outputs": [
    {
     "output_type": "stream",
     "name": "stdout",
     "output_type": "stream",
     "text": [
      "root\n |-- sl_no: integer (nullable = true)\n |-- fixture_id: integer (nullable = true)\n |-- fixture_date: timestamp (nullable = true)\n |-- teams_home_id: integer (nullable = true)\n |-- teams_home_name: string (nullable = true)\n |-- teams_home_winner: boolean (nullable = true)\n |-- teams_away_id: integer (nullable = true)\n |-- teams_away_name: string (nullable = true)\n |-- teams_away_winner: boolean (nullable = true)\n |-- goals_home: integer (nullable = true)\n |-- goals_away: integer (nullable = true)\n\n"
     ]
    }
   ],
   "source": [
    "# File location and type\n",
    "file_location = \"/FileStore/tables/2023_matchday_results-1.csv\"\n",
    "file_type = \"csv\"\n",
    "\n",
    "# CSV options\n",
    "infer_schema = \"true\"\n",
    "first_row_is_header = \"true\"\n",
    "delimiter = \",\"\n",
    "\n",
    "# The applied options are for CSV files. For other file types, these will be ignored.\n",
    "pl_results_df = spark.read.format(file_type) \\\n",
    "  .option(\"inferSchema\", infer_schema) \\\n",
    "  .option(\"header\", first_row_is_header) \\\n",
    "  .option(\"sep\", delimiter) \\\n",
    "  .load(file_location)\n",
    "\n",
    "\n",
    "\n",
    "pl_results_df=pl_results_df.withColumnRenamed(\"Sl.no\",\"sl_no\") \\\n",
    "    .withColumnRenamed(\"fixture.id\", \"fixture_id\") \\\n",
    "    .withColumnRenamed(\"fixture.date\",\"fixture_date\") \\\n",
    "    .withColumnRenamed(\"teams.home.id\",\"teams_home_id\") \\\n",
    "    .withColumnRenamed(\"teams.home.winner\",\"teams_home_winner\") \\\n",
    "    .withColumnRenamed(\"teams.home.name\",\"teams_home_name\") \\\n",
    "    .withColumnRenamed(\"teams.away.id\",\"teams_away_id\") \\\n",
    "    .withColumnRenamed(\"teams.away.name\",\"teams_away_name\") \\\n",
    "    .withColumnRenamed(\"teams.away.winner\",\"teams_away_winner\") \\\n",
    "    .withColumnRenamed(\"goals.home\",\"goals_home\") \\\n",
    "    .withColumnRenamed(\"goals.away\",\"goals_away\")\n",
    "# Create a view or table\n",
    "\n",
    "temp_table_name = \"pl_results\"\n",
    "#display(pl_results_df)\n",
    "pl_results_df.printSchema()\n",
    "pl_results_df.createOrReplaceTempView(temp_table_name)"
   ]
  },
  {
   "cell_type": "code",
   "execution_count": 0,
   "metadata": {
    "application/vnd.databricks.v1+cell": {
     "cellMetadata": {
      "byteLimit": 2048000,
      "rowLimit": 10000
     },
     "inputWidgets": {},
     "nuid": "48829c45-cf2a-4a5a-896a-103dde75c032",
     "showTitle": false,
     "title": ""
    },
    "jupyter": {
     "outputs_hidden": true
    }
   },
   "outputs": [
    {
     "output_type": "stream",
     "name": "stdout",
     "output_type": "stream",
     "text": [
      "root\n |-- fixture_id: string (nullable = true)\n |-- home_team_id: string (nullable = true)\n |-- Home_team_name: string (nullable = true)\n |-- Shots_on_Goal: string (nullable = true)\n |-- Shots_off_Goal: string (nullable = true)\n |-- Total_Shots: string (nullable = true)\n |-- Blocked_Shots: string (nullable = true)\n |-- Shots_insidebox: string (nullable = true)\n |-- Shots_outsidebox: string (nullable = true)\n |-- Fouls: string (nullable = true)\n |-- Corner_Kicks: string (nullable = true)\n |-- Offsides: string (nullable = true)\n |-- Ball_Possession: string (nullable = true)\n |-- Yellow_Cards: string (nullable = true)\n |-- Red_Cards: string (nullable = true)\n |-- Goalkeeper_Saves: string (nullable = true)\n |-- Total_passes: string (nullable = true)\n |-- Passes_accurate: string (nullable = true)\n |-- Passes_%: string (nullable = true)\n |-- expected_goals: string (nullable = true)\n\n"
     ]
    }
   ],
   "source": [
    "# File location and type\n",
    "file_location = \"/FileStore/tables/2023_home_teams_stats.csv\"\n",
    "file_type = \"csv\"\n",
    "\n",
    "# CSV options\n",
    "infer_schema = \"false\"\n",
    "first_row_is_header = \"true\"\n",
    "delimiter = \",\"\n",
    "\n",
    "# The applied options are for CSV files. For other file types, these will be ignored.\n",
    "pl_home_team_stats_df = spark.read.format(file_type) \\\n",
    "  .option(\"inferSchema\", infer_schema) \\\n",
    "  .option(\"header\", first_row_is_header) \\\n",
    "  .option(\"sep\", delimiter) \\\n",
    "  .load(file_location)\n",
    "\n",
    "pl_home_team_stats_df=pl_home_team_stats_df.withColumnRenamed(\"Home team id\",\"home_team_id\") \\\n",
    "    .withColumnRenamed(\"fixture id\", \"fixture_id\") \\\n",
    "    .withColumnRenamed(\"Home team name\",\"Home_team_name\") \\\n",
    "    .withColumnRenamed(\"Shots on Goal\",\"Shots_on_Goal\") \\\n",
    "    .withColumnRenamed(\"Shots off Goal\",\"Shots_off_Goal\") \\\n",
    "    .withColumnRenamed(\"Total Shots\",\"Total_Shots\") \\\n",
    "    .withColumnRenamed(\"Blocked Shots\",\"Blocked_Shots\") \\\n",
    "    .withColumnRenamed(\"Shots insidebox\",\"Shots_insidebox\") \\\n",
    "    .withColumnRenamed(\"Shots outsidebox\",\"Shots_outsidebox\") \\\n",
    "    .withColumnRenamed(\"Corner Kicks\", \"Corner_Kicks\") \\\n",
    "    .withColumnRenamed(\"Ball Possession\", \"Ball_Possession\") \\\n",
    "    .withColumnRenamed(\"Yellow Cards\",\"Yellow_Cards\") \\\n",
    "    .withColumnRenamed(\"Red Cards\",\"Red_Cards\") \\\n",
    "    .withColumnRenamed(\"Goalkeeper Saves\",\"Goalkeeper_Saves\") \\\n",
    "    .withColumnRenamed(\"Total passes\",\"Total_passes\") \\\n",
    "    .withColumnRenamed(\"Passes accurate\",\"Passes_accurate\") \\\n",
    "    .withColumnRenamed(\"Passes %\",\"Passes_%\")\n",
    "\n",
    "#display(pl_home_team_stats_df)\n",
    "pl_home_team_stats_df.printSchema()\n",
    "temp_table_name = \"home_teams_stats\"\n",
    "\n",
    "pl_home_team_stats_df.createOrReplaceTempView(temp_table_name)"
   ]
  },
  {
   "cell_type": "code",
   "execution_count": 0,
   "metadata": {
    "application/vnd.databricks.v1+cell": {
     "cellMetadata": {
      "byteLimit": 2048000,
      "rowLimit": 10000
     },
     "inputWidgets": {},
     "nuid": "bd82bb99-1479-4d5c-be10-8c36df0f1d44",
     "showTitle": false,
     "title": ""
    },
    "jupyter": {
     "outputs_hidden": true
    }
   },
   "outputs": [
    {
     "output_type": "stream",
     "name": "stdout",
     "output_type": "stream",
     "text": [
      "root\n |-- fixture_id: string (nullable = true)\n |-- away_team_id: string (nullable = true)\n |-- Away_team_name: string (nullable = true)\n |-- Shots_on_Goal: string (nullable = true)\n |-- Shots_off_Goal: string (nullable = true)\n |-- Total_Shots: string (nullable = true)\n |-- Blocked_Shots: string (nullable = true)\n |-- Shots_insidebox: string (nullable = true)\n |-- Shots_outsidebox: string (nullable = true)\n |-- Fouls: string (nullable = true)\n |-- Corner_Kicks: string (nullable = true)\n |-- Offsides: string (nullable = true)\n |-- Ball_Possession: string (nullable = true)\n |-- Yellow_Cards: string (nullable = true)\n |-- Red_Cards: string (nullable = true)\n |-- Goalkeeper_Saves: string (nullable = true)\n |-- Total_passes: string (nullable = true)\n |-- Passes_accurate: string (nullable = true)\n |-- Passes_%: string (nullable = true)\n |-- expected_goals: string (nullable = true)\n\n"
     ]
    }
   ],
   "source": [
    "# File location and type\n",
    "file_location = \"/FileStore/tables/2023_away_teams_stats.csv\"\n",
    "file_type = \"csv\"\n",
    "\n",
    "# CSV options\n",
    "infer_schema = \"false\"\n",
    "first_row_is_header = \"true\"\n",
    "delimiter = \",\"\n",
    "\n",
    "# The applied options are for CSV files. For other file types, these will be ignored.\n",
    "pl_away_teams_stats_df = spark.read.format(file_type) \\\n",
    "  .option(\"inferSchema\", infer_schema) \\\n",
    "  .option(\"header\", first_row_is_header) \\\n",
    "  .option(\"sep\", delimiter) \\\n",
    "  .load(file_location)\n",
    "\n",
    "pl_away_teams_stats_df=pl_away_teams_stats_df.withColumnRenamed(\"Away team id\",\"away_team_id\") \\\n",
    "    .withColumnRenamed(\"fixture id\", \"fixture_id\") \\\n",
    "    .withColumnRenamed(\"Away team name\",\"Away_team_name\") \\\n",
    "    .withColumnRenamed(\"Shots on Goal\",\"Shots_on_Goal\") \\\n",
    "    .withColumnRenamed(\"Shots off Goal\",\"Shots_off_Goal\") \\\n",
    "    .withColumnRenamed(\"Total Shots\",\"Total_Shots\") \\\n",
    "    .withColumnRenamed(\"Blocked Shots\",\"Blocked_Shots\") \\\n",
    "    .withColumnRenamed(\"Shots insidebox\",\"Shots_insidebox\") \\\n",
    "    .withColumnRenamed(\"Shots outsidebox\",\"Shots_outsidebox\") \\\n",
    "    .withColumnRenamed(\"Corner Kicks\", \"Corner_Kicks\") \\\n",
    "    .withColumnRenamed(\"Ball Possession\", \"Ball_Possession\") \\\n",
    "    .withColumnRenamed(\"Yellow Cards\",\"Yellow_Cards\") \\\n",
    "    .withColumnRenamed(\"Red Cards\",\"Red_Cards\") \\\n",
    "    .withColumnRenamed(\"Goalkeeper Saves\",\"Goalkeeper_Saves\") \\\n",
    "    .withColumnRenamed(\"Total passes\",\"Total_passes\") \\\n",
    "    .withColumnRenamed(\"Passes accurate\",\"Passes_accurate\") \\\n",
    "    .withColumnRenamed(\"Passes %\",\"Passes_%\")\n",
    "\n",
    "#display(pl_away_teams_stats_df)\n",
    "pl_away_teams_stats_df.printSchema()\n",
    "\n",
    "temp_table_name = \"away_teams_stats\"\n",
    "\n",
    "pl_away_teams_stats_df.createOrReplaceTempView(temp_table_name)"
   ]
  },
  {
   "cell_type": "code",
   "execution_count": 0,
   "metadata": {
    "application/vnd.databricks.v1+cell": {
     "cellMetadata": {
      "byteLimit": 2048000,
      "implicitDf": true,
      "rowLimit": 10000
     },
     "inputWidgets": {},
     "nuid": "b5f66379-6f7f-42ec-8e82-d0e0926a1721",
     "showTitle": false,
     "title": ""
    },
    "jupyter": {
     "outputs_hidden": true
    }
   },
   "outputs": [
    {
     "output_type": "display_data",
     "data": {
      "text/html": [
       "<style scoped>\n",
       "  .table-result-container {\n",
       "    max-height: 300px;\n",
       "    overflow: auto;\n",
       "  }\n",
       "  table, th, td {\n",
       "    border: 1px solid black;\n",
       "    border-collapse: collapse;\n",
       "  }\n",
       "  th, td {\n",
       "    padding: 5px;\n",
       "  }\n",
       "  th {\n",
       "    text-align: left;\n",
       "  }\n",
       "</style><div class='table-result-container'><table class='table-result'><thead style='background-color: white'><tr><th>col_name</th><th>data_type</th><th>comment</th></tr></thead><tbody><tr><td>sl_no</td><td>int</td><td>null</td></tr><tr><td>fixture_id</td><td>int</td><td>null</td></tr><tr><td>fixture_date</td><td>timestamp</td><td>null</td></tr><tr><td>teams_home_id</td><td>int</td><td>null</td></tr><tr><td>teams_home_name</td><td>string</td><td>null</td></tr><tr><td>teams_home_winner</td><td>boolean</td><td>null</td></tr><tr><td>teams_away_id</td><td>int</td><td>null</td></tr><tr><td>teams_away_name</td><td>string</td><td>null</td></tr><tr><td>teams_away_winner</td><td>boolean</td><td>null</td></tr><tr><td>goals_home</td><td>int</td><td>null</td></tr><tr><td>goals_away</td><td>int</td><td>null</td></tr></tbody></table></div>"
      ]
     },
     "metadata": {
      "application/vnd.databricks.v1+output": {
       "addedWidgets": {},
       "aggData": [],
       "aggError": "",
       "aggOverflow": false,
       "aggSchema": [],
       "aggSeriesLimitReached": false,
       "aggType": "",
       "arguments": {},
       "columnCustomDisplayInfos": {},
       "data": [
        [
         "sl_no",
         "int",
         null
        ],
        [
         "fixture_id",
         "int",
         null
        ],
        [
         "fixture_date",
         "timestamp",
         null
        ],
        [
         "teams_home_id",
         "int",
         null
        ],
        [
         "teams_home_name",
         "string",
         null
        ],
        [
         "teams_home_winner",
         "boolean",
         null
        ],
        [
         "teams_away_id",
         "int",
         null
        ],
        [
         "teams_away_name",
         "string",
         null
        ],
        [
         "teams_away_winner",
         "boolean",
         null
        ],
        [
         "goals_home",
         "int",
         null
        ],
        [
         "goals_away",
         "int",
         null
        ]
       ],
       "datasetInfos": [],
       "dbfsResultPath": null,
       "isJsonSchema": true,
       "metadata": {},
       "overflow": false,
       "plotOptions": {
        "customPlotOptions": {},
        "displayType": "table",
        "pivotAggregation": null,
        "pivotColumns": null,
        "xColumns": null,
        "yColumns": null
       },
       "removedWidgets": [],
       "schema": [
        {
         "metadata": "{\"comment\":\"name of the column\"}",
         "name": "col_name",
         "type": "\"string\""
        },
        {
         "metadata": "{\"comment\":\"data type of the column\"}",
         "name": "data_type",
         "type": "\"string\""
        },
        {
         "metadata": "{\"comment\":\"comment of the column\"}",
         "name": "comment",
         "type": "\"string\""
        }
       ],
       "type": "table"
      }
     },
     "output_type": "display_data"
    }
   ],
   "source": [
    "%sql\n",
    "describe table pl_results;\n",
    "describe table home_teams_stats;\n",
    "describe table away_teams_stats;"
   ]
  },
  {
   "cell_type": "code",
   "execution_count": 0,
   "metadata": {
    "application/vnd.databricks.v1+cell": {
     "cellMetadata": {
      "byteLimit": 2048000,
      "rowLimit": 10000
     },
     "inputWidgets": {},
     "nuid": "6a961457-a282-4b95-8bf3-bfc9778430a7",
     "showTitle": false,
     "title": ""
    }
   },
   "outputs": [
    {
     "output_type": "execute_result",
     "data": {
      "text/plain": [
       "17"
      ]
     },
     "execution_count": 22,
     "metadata": {},
     "output_type": "execute_result"
    }
   ],
   "source": [
    "#1\n",
    "pl_results_df.select(\"fixture_id\",\"fixture_date\",\"teams_home_name\",\"teams_away_name\",\"goals_home\",\"goals_away\")\\\n",
    ".where(\"teams_home_name == 'Manchester City' and teams_home_winner == true\")\\\n",
    ".count()"
   ]
  },
  {
   "cell_type": "code",
   "execution_count": 0,
   "metadata": {
    "application/vnd.databricks.v1+cell": {
     "cellMetadata": {
      "byteLimit": 2048000,
      "rowLimit": 10000
     },
     "inputWidgets": {},
     "nuid": "6232f7b1-9e95-42cd-a51e-1504f0f83055",
     "showTitle": false,
     "title": ""
    }
   },
   "outputs": [
    {
     "output_type": "execute_result",
     "data": {
      "text/plain": [
       "4"
      ]
     },
     "execution_count": 23,
     "metadata": {},
     "output_type": "execute_result"
    }
   ],
   "source": [
    "#2\n",
    "pl_results_df.select(\"fixture_id\",\"fixture_date\",\"teams_home_name\",\"teams_away_name\",\"goals_home\",\"goals_away\")\\\n",
    ".where(\"teams_away_name == 'Manchester City' and teams_home_winner is null\")\\\n",
    ".count()"
   ]
  },
  {
   "cell_type": "code",
   "execution_count": 0,
   "metadata": {
    "application/vnd.databricks.v1+cell": {
     "cellMetadata": {
      "byteLimit": 2048000,
      "implicitDf": true,
      "rowLimit": 10000
     },
     "inputWidgets": {},
     "nuid": "2edd2547-0db8-441b-bf1a-a0e9c62253b7",
     "showTitle": false,
     "title": ""
    },
    "jupyter": {
     "outputs_hidden": true
    }
   },
   "outputs": [
    {
     "output_type": "display_data",
     "data": {
      "text/html": [
       "<style scoped>\n",
       "  .table-result-container {\n",
       "    max-height: 300px;\n",
       "    overflow: auto;\n",
       "  }\n",
       "  table, th, td {\n",
       "    border: 1px solid black;\n",
       "    border-collapse: collapse;\n",
       "  }\n",
       "  th, td {\n",
       "    padding: 5px;\n",
       "  }\n",
       "  th {\n",
       "    text-align: left;\n",
       "  }\n",
       "</style><div class='table-result-container'><table class='table-result'><thead style='background-color: white'><tr><th>teams_home_name</th><th>total_home_wins</th></tr></thead><tbody><tr><td>Manchester City</td><td>17</td></tr></tbody></table></div>"
      ]
     },
     "metadata": {
      "application/vnd.databricks.v1+output": {
       "addedWidgets": {},
       "aggData": [],
       "aggError": "",
       "aggOverflow": false,
       "aggSchema": [],
       "aggSeriesLimitReached": false,
       "aggType": "",
       "arguments": {},
       "columnCustomDisplayInfos": {},
       "data": [
        [
         "Manchester City",
         17
        ]
       ],
       "datasetInfos": [],
       "dbfsResultPath": null,
       "isJsonSchema": true,
       "metadata": {
        "dataframeName": "_sqldf",
        "executionCount": 19
       },
       "overflow": false,
       "plotOptions": {
        "customPlotOptions": {},
        "displayType": "table",
        "pivotAggregation": null,
        "pivotColumns": null,
        "xColumns": null,
        "yColumns": null
       },
       "removedWidgets": [],
       "schema": [
        {
         "metadata": "{}",
         "name": "teams_home_name",
         "type": "\"string\""
        },
        {
         "metadata": "{}",
         "name": "total_home_wins",
         "type": "\"long\""
        }
       ],
       "type": "table"
      }
     },
     "output_type": "display_data"
    }
   ],
   "source": [
    "%sql\n",
    "with team_home_wins_count as (select\n",
    "teams_home_name,count(teams_home_winner) as total_home_wins from pl_results\n",
    "where teams_home_winner = 'true'\n",
    "group by teams_home_name)\n",
    "select teams_home_name, total_home_wins from team_home_wins_count\n",
    "where total_home_wins = (select max(total_home_wins) from team_home_wins_count)"
   ]
  },
  {
   "cell_type": "code",
   "execution_count": 0,
   "metadata": {
    "application/vnd.databricks.v1+cell": {
     "cellMetadata": {
      "byteLimit": 2048000,
      "rowLimit": 10000
     },
     "inputWidgets": {},
     "nuid": "3d7d9943-af87-44ee-9efb-197800ca6bc1",
     "showTitle": false,
     "title": ""
    },
    "jupyter": {
     "outputs_hidden": true
    }
   },
   "outputs": [
    {
     "output_type": "stream",
     "name": "stdout",
     "output_type": "stream",
     "text": [
      "+---------------+---------------+\n|teams_home_name|total_home_wins|\n+---------------+---------------+\n|Manchester City|             17|\n+---------------+---------------+\n\n"
     ]
    }
   ],
   "source": [
    "most_home_wins_df = _sqldf\n",
    "most_home_wins_df.show()"
   ]
  },
  {
   "cell_type": "code",
   "execution_count": 0,
   "metadata": {
    "application/vnd.databricks.v1+cell": {
     "cellMetadata": {
      "byteLimit": 2048000,
      "implicitDf": true,
      "rowLimit": 10000
     },
     "inputWidgets": {},
     "nuid": "cd2e13e0-8eb2-49bd-8a25-f6968aede857",
     "showTitle": false,
     "title": ""
    },
    "jupyter": {
     "outputs_hidden": true
    }
   },
   "outputs": [
    {
     "output_type": "display_data",
     "data": {
      "text/html": [
       "<style scoped>\n",
       "  .table-result-container {\n",
       "    max-height: 300px;\n",
       "    overflow: auto;\n",
       "  }\n",
       "  table, th, td {\n",
       "    border: 1px solid black;\n",
       "    border-collapse: collapse;\n",
       "  }\n",
       "  th, td {\n",
       "    padding: 5px;\n",
       "  }\n",
       "  th {\n",
       "    text-align: left;\n",
       "  }\n",
       "</style><div class='table-result-container'><table class='table-result'><thead style='background-color: white'><tr><th>teams_home_id</th><th>teams_home_winner</th></tr></thead><tbody><tr><td>52</td><td>false</td></tr><tr><td>36</td><td>null</td></tr><tr><td>35</td><td>true</td></tr><tr><td>63</td><td>true</td></tr><tr><td>46</td><td>null</td></tr><tr><td>34</td><td>true</td></tr><tr><td>47</td><td>true</td></tr><tr><td>45</td><td>false</td></tr><tr><td>33</td><td>false</td></tr><tr><td>48</td><td>false</td></tr><tr><td>42</td><td>true</td></tr><tr><td>66</td><td>true</td></tr><tr><td>55</td><td>true</td></tr><tr><td>51</td><td>null</td></tr><tr><td>49</td><td>null</td></tr><tr><td>40</td><td>null</td></tr><tr><td>50</td><td>true</td></tr><tr><td>65</td><td>true</td></tr><tr><td>41</td><td>null</td></tr><tr><td>39</td><td>null</td></tr><tr><td>35</td><td>false</td></tr><tr><td>52</td><td>true</td></tr><tr><td>45</td><td>null</td></tr><tr><td>36</td><td>true</td></tr><tr><td>63</td><td>true</td></tr><tr><td>46</td><td>false</td></tr><tr><td>33</td><td>true</td></tr><tr><td>34</td><td>null</td></tr><tr><td>47</td><td>true</td></tr><tr><td>48</td><td>false</td></tr><tr><td>42</td><td>true</td></tr><tr><td>66</td><td>false</td></tr><tr><td>55</td><td>null</td></tr><tr><td>51</td><td>true</td></tr><tr><td>49</td><td>true</td></tr><tr><td>40</td><td>true</td></tr><tr><td>50</td><td>true</td></tr><tr><td>65</td><td>false</td></tr><tr><td>41</td><td>false</td></tr><tr><td>39</td><td>null</td></tr><tr><td>35</td><td>null</td></tr><tr><td>42</td><td>true</td></tr><tr><td>36</td><td>true</td></tr><tr><td>63</td><td>null</td></tr><tr><td>46</td><td>false</td></tr><tr><td>48</td><td>null</td></tr><tr><td>52</td><td>null</td></tr><tr><td>41</td><td>true</td></tr><tr><td>40</td><td>true</td></tr><tr><td>50</td><td>true</td></tr><tr><td>66</td><td>null</td></tr><tr><td>55</td><td>true</td></tr><tr><td>51</td><td>true</td></tr><tr><td>49</td><td>true</td></tr><tr><td>45</td><td>null</td></tr><tr><td>33</td><td>true</td></tr><tr><td>34</td><td>null</td></tr><tr><td>65</td><td>false</td></tr><tr><td>47</td><td>true</td></tr><tr><td>39</td><td>true</td></tr><tr><td>35</td><td>false</td></tr><tr><td>42</td><td>true</td></tr><tr><td>52</td><td>null</td></tr><tr><td>36</td><td>true</td></tr><tr><td>63</td><td>true</td></tr><tr><td>46</td><td>false</td></tr><tr><td>40</td><td>true</td></tr><tr><td>50</td><td>true</td></tr><tr><td>41</td><td>false</td></tr><tr><td>48</td><td>false</td></tr><tr><td>66</td><td>true</td></tr><tr><td>55</td><td>false</td></tr><tr><td>51</td><td>true</td></tr><tr><td>49</td><td>null</td></tr><tr><td>45</td><td>true</td></tr><tr><td>33</td><td>null</td></tr><tr><td>34</td><td>null</td></tr><tr><td>65</td><td>false</td></tr><tr><td>47</td><td>true</td></tr><tr><td>39</td><td>false</td></tr><tr><td>35</td><td>null</td></tr><tr><td>42</td><td>true</td></tr><tr><td>52</td><td>false</td></tr><tr><td>36</td><td>false</td></tr><tr><td>63</td><td>null</td></tr><tr><td>46</td><td>true</td></tr><tr><td>40</td><td>null</td></tr><tr><td>50</td><td>true</td></tr><tr><td>41</td><td>false</td></tr><tr><td>48</td><td>true</td></tr><tr><td>35</td><td>true</td></tr><tr><td>42</td><td>true</td></tr><tr><td>51</td><td>false</td></tr><tr><td>49</td><td>true</td></tr><tr><td>52</td><td>true</td></tr><tr><td>45</td><td>false</td></tr><tr><td>50</td><td>true</td></tr><tr><td>34</td><td>true</td></tr><tr><td>65</td><td>null</td></tr><tr><td>48</td><td>true</td></tr><tr><td>66</td><td>false</td></tr><tr><td>55</td><td>true</td></tr><tr><td>36</td><td>null</td></tr><tr><td>63</td><td>false</td></tr><tr><td>46</td><td>null</td></tr><tr><td>40</td><td>true</td></tr><tr><td>33</td><td>null</td></tr><tr><td>41</td><td>null</td></tr><tr><td>47</td><td>true</td></tr><tr><td>39</td><td>true</td></tr><tr><td>35</td><td>false</td></tr><tr><td>42</td><td>false</td></tr><tr><td>55</td><td>null</td></tr><tr><td>51</td><td>null</td></tr><tr><td>36</td><td>true</td></tr><tr><td>46</td><td>true</td></tr><tr><td>52</td><td>true</td></tr><tr><td>34</td><td>true</td></tr><tr><td>40</td><td>true</td></tr><tr><td>33</td><td>true</td></tr><tr><td>66</td><td>true</td></tr><tr><td>49</td><td>null</td></tr><tr><td>45</td><td>true</td></tr><tr><td>63</td><td>false</td></tr><tr><td>50</td><td>true</td></tr><tr><td>65</td><td>true</td></tr><tr><td>41</td><td>null</td></tr><tr><td>47</td><td>false</td></tr><tr><td>48</td><td>true</td></tr><tr><td>39</td><td>false</td></tr><tr><td>35</td><td>false</td></tr><tr><td>42</td><td>true</td></tr><tr><td>55</td><td>null</td></tr><tr><td>51</td><td>true</td></tr><tr><td>52</td><td>true</td></tr><tr><td>36</td><td>null</td></tr><tr><td>46</td><td>false</td></tr><tr><td>40</td><td>false</td></tr><tr><td>33</td><td>true</td></tr><tr><td>34</td><td>true</td></tr><tr><td>66</td><td>true</td></tr><tr><td>49</td><td>false</td></tr><tr><td>45</td><td>false</td></tr><tr><td>63</td><td>true</td></tr><tr><td>50</td><td>true</td></tr><tr><td>65</td><td>null</td></tr><tr><td>41</td><td>false</td></tr><tr><td>47</td><td>false</td></tr><tr><td>48</td><td>false</td></tr><tr><td>39</td><td>false</td></tr><tr><td>35</td><td>true</td></tr><tr><td>51</td><td>false</td></tr><tr><td>36</td><td>false</td></tr><tr><td>40</td><td>true</td></tr><tr><td>50</td><td>false</td></tr><tr><td>34</td><td>true</td></tr><tr><td>65</td><td>true</td></tr><tr><td>47</td><td>true</td></tr><tr><td>48</td><td>false</td></tr><tr><td>39</td><td>false</td></tr><tr><td>42</td><td>true</td></tr><tr><td>66</td><td>false</td></tr><tr><td>55</td><td>null</td></tr><tr><td>49</td><td>true</td></tr><tr><td>52</td><td>false</td></tr><tr><td>45</td><td>false</td></tr><tr><td>63</td><td>false</td></tr><tr><td>46</td><td>false</td></tr><tr><td>33</td><td>true</td></tr><tr><td>41</td><td>false</td></tr><tr><td>35</td><td>false</td></tr><tr><td>51</td><td>false</td></tr><tr><td>36</td><td>true</td></tr><tr><td>40</td><td>true</td></tr><tr><td>50</td><td>null</td></tr><tr><td>34</td><td>null</td></tr><tr><td>65</td><td>null</td></tr><tr><td>47</td><td>false</td></tr><tr><td>48</td><td>false</td></tr><tr><td>39</td><td>false</td></tr><tr><td>42</td><td>null</td></tr><tr><td>66</td><td>null</td></tr><tr><td>55</td><td>true</td></tr><tr><td>49</td><td>false</td></tr><tr><td>52</td><td>false</td></tr><tr><td>45</td><td>false</td></tr><tr><td>63</td><td>null</td></tr><tr><td>46</td><td>false</td></tr><tr><td>33</td><td>true</td></tr><tr><td>41</td><td>false</td></tr><tr><td>66</td><td>true</td></tr><tr><td>55</td><td>true</td></tr><tr><td>51</td><td>true</td></tr><tr><td>49</td><td>true</td></tr><tr><td>45</td><td>false</td></tr><tr><td>33</td><td>true</td></tr><tr><td>34</td><td>true</td></tr><tr><td>65</td><td>true</td></tr><tr><td>47</td><td>false</td></tr><tr><td>39</td><td>true</td></tr><tr><td>35</td><td>null</td></tr><tr><td>42</td><td>true</td></tr><tr><td>52</td><td>null</td></tr><tr><td>36</td><td>false</td></tr><tr><td>63</td><td>null</td></tr><tr><td>46</td><td>null</td></tr><tr><td>40</td><td>null</td></tr><tr><td>50</td><td>true</td></tr><tr><td>41</td><td>false</td></tr><tr><td>48</td><td>true</td></tr><tr><td>66</td><td>false</td></tr><tr><td>55</td><td>true</td></tr><tr><td>51</td><td>true</td></tr><tr><td>49</td><td>null</td></tr><tr><td>45</td><td>true</td></tr><tr><td>33</td><td>true</td></tr><tr><td>34</td><td>null</td></tr><tr><td>65</td><td>true</td></tr><tr><td>47</td><td>true</td></tr><tr><td>39</td><td>true</td></tr><tr><td>35</td><td>null</td></tr><tr><td>42</td><td>null</td></tr><tr><td>52</td><td>null</td></tr><tr><td>36</td><td>true</td></tr><tr><td>63</td><td>false</td></tr><tr><td>46</td><td>true</td></tr><tr><td>40</td><td>true</td></tr><tr><td>50</td><td>true</td></tr><tr><td>41</td><td>false</td></tr><tr><td>48</td><td>null</td></tr><tr><td>66</td><td>false</td></tr><tr><td>55</td><td>null</td></tr><tr><td>51</td><td>false</td></tr><tr><td>49</td><td>false</td></tr><tr><td>45</td><td>true</td></tr><tr><td>33</td><td>true</td></tr><tr><td>34</td><td>false</td></tr><tr><td>65</td><td>null</td></tr><tr><td>47</td><td>true</td></tr><tr><td>39</td><td>false</td></tr><tr><td>35</td><td>false</td></tr><tr><td>52</td><td>null</td></tr><tr><td>45</td><td>false</td></tr><tr><td>36</td><td>null</td></tr><tr><td>63</td><td>true</td></tr><tr><td>46</td><td>false</td></tr><tr><td>33</td><td>true</td></tr><tr><td>34</td><td>true</td></tr><tr><td>47</td><td>true</td></tr><tr><td>48</td><td>true</td></tr><tr><td>42</td><td>true</td></tr><tr><td>66</td><td>true</td></tr><tr><td>55</td><td>true</td></tr><tr><td>51</td><td>true</td></tr><tr><td>49</td><td>true</td></tr><tr><td>40</td><td>true</td></tr><tr><td>50</td><td>true</td></tr><tr><td>65</td><td>null</td></tr><tr><td>41</td><td>true</td></tr><tr><td>39</td><td>true</td></tr><tr><td>35</td><td>true</td></tr><tr><td>52</td><td>false</td></tr><tr><td>45</td><td>true</td></tr><tr><td>36</td><td>false</td></tr><tr><td>63</td><td>null</td></tr><tr><td>46</td><td>false</td></tr><tr><td>33</td><td>null</td></tr><tr><td>34</td><td>true</td></tr><tr><td>47</td><td>true</td></tr><tr><td>48</td><td>null</td></tr><tr><td>42</td><td>true</td></tr><tr><td>66</td><td>true</td></tr><tr><td>55</td><td>null</td></tr><tr><td>51</td><td>true</td></tr><tr><td>49</td><td>null</td></tr><tr><td>40</td><td>true</td></tr><tr><td>50</td><td>true</td></tr><tr><td>65</td><td>false</td></tr><tr><td>41</td><td>null</td></tr><tr><td>39</td><td>false</td></tr><tr><td>35</td><td>true</td></tr><tr><td>42</td><td>true</td></tr><tr><td>51</td><td>null</td></tr><tr><td>49</td><td>false</td></tr><tr><td>52</td><td>true</td></tr><tr><td>45</td><td>null</td></tr><tr><td>50</td><td>true</td></tr><tr><td>34</td><td>true</td></tr><tr><td>65</td><td>null</td></tr><tr><td>48</td><td>true</td></tr><tr><td>66</td><td>true</td></tr><tr><td>55</td><td>false</td></tr><tr><td>36</td><td>false</td></tr><tr><td>63</td><td>false</td></tr><tr><td>46</td><td>false</td></tr><tr><td>40</td><td>null</td></tr><tr><td>33</td><td>true</td></tr><tr><td>41</td><td>false</td></tr><tr><td>47</td><td>true</td></tr><tr><td>39</td><td>true</td></tr><tr><td>66</td><td>true</td></tr><tr><td>49</td><td>false</td></tr><tr><td>45</td><td>false</td></tr><tr><td>63</td><td>false</td></tr><tr><td>50</td><td>true</td></tr><tr><td>65</td><td>false</td></tr><tr><td>41</td><td>false</td></tr><tr><td>47</td><td>false</td></tr><tr><td>48</td><td>null</td></tr><tr><td>39</td><td>true</td></tr><tr><td>35</td><td>false</td></tr><tr><td>42</td><td>null</td></tr><tr><td>55</td><td>null</td></tr><tr><td>51</td><td>null</td></tr><tr><td>52</td><td>null</td></tr><tr><td>36</td><td>true</td></tr><tr><td>46</td><td>true</td></tr><tr><td>40</td><td>true</td></tr><tr><td>33</td><td>true</td></tr><tr><td>34</td><td>true</td></tr><tr><td>45</td><td>false</td></tr><tr><td>63</td><td>null</td></tr><tr><td>65</td><td>true</td></tr><tr><td>47</td><td>null</td></tr><tr><td>48</td><td>false</td></tr><tr><td>39</td><td>true</td></tr><tr><td>66</td><td>true</td></tr><tr><td>49</td><td>false</td></tr><tr><td>41</td><td>false</td></tr><tr><td>50</td><td>true</td></tr><tr><td>35</td><td>true</td></tr><tr><td>42</td><td>true</td></tr><tr><td>55</td><td>true</td></tr><tr><td>51</td><td>true</td></tr><tr><td>52</td><td>true</td></tr><tr><td>36</td><td>false</td></tr><tr><td>46</td><td>null</td></tr><tr><td>40</td><td>true</td></tr><tr><td>33</td><td>true</td></tr><tr><td>34</td><td>true</td></tr><tr><td>35</td><td>false</td></tr><tr><td>51</td><td>false</td></tr><tr><td>36</td><td>true</td></tr><tr><td>40</td><td>true</td></tr><tr><td>50</td><td>true</td></tr><tr><td>34</td><td>false</td></tr><tr><td>65</td><td>true</td></tr><tr><td>47</td><td>true</td></tr><tr><td>48</td><td>true</td></tr><tr><td>39</td><td>true</td></tr><tr><td>42</td><td>false</td></tr><tr><td>66</td><td>true</td></tr><tr><td>55</td><td>true</td></tr><tr><td>49</td><td>null</td></tr><tr><td>52</td><td>true</td></tr><tr><td>45</td><td>false</td></tr><tr><td>63</td><td>null</td></tr><tr><td>46</td><td>false</td></tr><tr><td>33</td><td>true</td></tr><tr><td>41</td><td>false</td></tr><tr><td>35</td><td>false</td></tr><tr><td>51</td><td>true</td></tr><tr><td>36</td><td>null</td></tr><tr><td>40</td><td>null</td></tr><tr><td>50</td><td>true</td></tr><tr><td>34</td><td>null</td></tr><tr><td>65</td><td>true</td></tr><tr><td>47</td><td>false</td></tr><tr><td>48</td><td>true</td></tr><tr><td>39</td><td>null</td></tr><tr><td>42</td><td>true</td></tr><tr><td>66</td><td>true</td></tr><tr><td>55</td><td>true</td></tr><tr><td>49</td><td>null</td></tr><tr><td>52</td><td>null</td></tr><tr><td>45</td><td>true</td></tr><tr><td>63</td><td>false</td></tr><tr><td>46</td><td>true</td></tr><tr><td>33</td><td>true</td></tr><tr><td>41</td><td>null</td></tr></tbody></table></div>"
      ]
     },
     "metadata": {
      "application/vnd.databricks.v1+output": {
       "addedWidgets": {},
       "aggData": [],
       "aggError": "",
       "aggOverflow": false,
       "aggSchema": [],
       "aggSeriesLimitReached": false,
       "aggType": "",
       "arguments": {},
       "columnCustomDisplayInfos": {},
       "data": [
        [
         52,
         false
        ],
        [
         36,
         null
        ],
        [
         35,
         true
        ],
        [
         63,
         true
        ],
        [
         46,
         null
        ],
        [
         34,
         true
        ],
        [
         47,
         true
        ],
        [
         45,
         false
        ],
        [
         33,
         false
        ],
        [
         48,
         false
        ],
        [
         42,
         true
        ],
        [
         66,
         true
        ],
        [
         55,
         true
        ],
        [
         51,
         null
        ],
        [
         49,
         null
        ],
        [
         40,
         null
        ],
        [
         50,
         true
        ],
        [
         65,
         true
        ],
        [
         41,
         null
        ],
        [
         39,
         null
        ],
        [
         35,
         false
        ],
        [
         52,
         true
        ],
        [
         45,
         null
        ],
        [
         36,
         true
        ],
        [
         63,
         true
        ],
        [
         46,
         false
        ],
        [
         33,
         true
        ],
        [
         34,
         null
        ],
        [
         47,
         true
        ],
        [
         48,
         false
        ],
        [
         42,
         true
        ],
        [
         66,
         false
        ],
        [
         55,
         null
        ],
        [
         51,
         true
        ],
        [
         49,
         true
        ],
        [
         40,
         true
        ],
        [
         50,
         true
        ],
        [
         65,
         false
        ],
        [
         41,
         false
        ],
        [
         39,
         null
        ],
        [
         35,
         null
        ],
        [
         42,
         true
        ],
        [
         36,
         true
        ],
        [
         63,
         null
        ],
        [
         46,
         false
        ],
        [
         48,
         null
        ],
        [
         52,
         null
        ],
        [
         41,
         true
        ],
        [
         40,
         true
        ],
        [
         50,
         true
        ],
        [
         66,
         null
        ],
        [
         55,
         true
        ],
        [
         51,
         true
        ],
        [
         49,
         true
        ],
        [
         45,
         null
        ],
        [
         33,
         true
        ],
        [
         34,
         null
        ],
        [
         65,
         false
        ],
        [
         47,
         true
        ],
        [
         39,
         true
        ],
        [
         35,
         false
        ],
        [
         42,
         true
        ],
        [
         52,
         null
        ],
        [
         36,
         true
        ],
        [
         63,
         true
        ],
        [
         46,
         false
        ],
        [
         40,
         true
        ],
        [
         50,
         true
        ],
        [
         41,
         false
        ],
        [
         48,
         false
        ],
        [
         66,
         true
        ],
        [
         55,
         false
        ],
        [
         51,
         true
        ],
        [
         49,
         null
        ],
        [
         45,
         true
        ],
        [
         33,
         null
        ],
        [
         34,
         null
        ],
        [
         65,
         false
        ],
        [
         47,
         true
        ],
        [
         39,
         false
        ],
        [
         35,
         null
        ],
        [
         42,
         true
        ],
        [
         52,
         false
        ],
        [
         36,
         false
        ],
        [
         63,
         null
        ],
        [
         46,
         true
        ],
        [
         40,
         null
        ],
        [
         50,
         true
        ],
        [
         41,
         false
        ],
        [
         48,
         true
        ],
        [
         35,
         true
        ],
        [
         42,
         true
        ],
        [
         51,
         false
        ],
        [
         49,
         true
        ],
        [
         52,
         true
        ],
        [
         45,
         false
        ],
        [
         50,
         true
        ],
        [
         34,
         true
        ],
        [
         65,
         null
        ],
        [
         48,
         true
        ],
        [
         66,
         false
        ],
        [
         55,
         true
        ],
        [
         36,
         null
        ],
        [
         63,
         false
        ],
        [
         46,
         null
        ],
        [
         40,
         true
        ],
        [
         33,
         null
        ],
        [
         41,
         null
        ],
        [
         47,
         true
        ],
        [
         39,
         true
        ],
        [
         35,
         false
        ],
        [
         42,
         false
        ],
        [
         55,
         null
        ],
        [
         51,
         null
        ],
        [
         36,
         true
        ],
        [
         46,
         true
        ],
        [
         52,
         true
        ],
        [
         34,
         true
        ],
        [
         40,
         true
        ],
        [
         33,
         true
        ],
        [
         66,
         true
        ],
        [
         49,
         null
        ],
        [
         45,
         true
        ],
        [
         63,
         false
        ],
        [
         50,
         true
        ],
        [
         65,
         true
        ],
        [
         41,
         null
        ],
        [
         47,
         false
        ],
        [
         48,
         true
        ],
        [
         39,
         false
        ],
        [
         35,
         false
        ],
        [
         42,
         true
        ],
        [
         55,
         null
        ],
        [
         51,
         true
        ],
        [
         52,
         true
        ],
        [
         36,
         null
        ],
        [
         46,
         false
        ],
        [
         40,
         false
        ],
        [
         33,
         true
        ],
        [
         34,
         true
        ],
        [
         66,
         true
        ],
        [
         49,
         false
        ],
        [
         45,
         false
        ],
        [
         63,
         true
        ],
        [
         50,
         true
        ],
        [
         65,
         null
        ],
        [
         41,
         false
        ],
        [
         47,
         false
        ],
        [
         48,
         false
        ],
        [
         39,
         false
        ],
        [
         35,
         true
        ],
        [
         51,
         false
        ],
        [
         36,
         false
        ],
        [
         40,
         true
        ],
        [
         50,
         false
        ],
        [
         34,
         true
        ],
        [
         65,
         true
        ],
        [
         47,
         true
        ],
        [
         48,
         false
        ],
        [
         39,
         false
        ],
        [
         42,
         true
        ],
        [
         66,
         false
        ],
        [
         55,
         null
        ],
        [
         49,
         true
        ],
        [
         52,
         false
        ],
        [
         45,
         false
        ],
        [
         63,
         false
        ],
        [
         46,
         false
        ],
        [
         33,
         true
        ],
        [
         41,
         false
        ],
        [
         35,
         false
        ],
        [
         51,
         false
        ],
        [
         36,
         true
        ],
        [
         40,
         true
        ],
        [
         50,
         null
        ],
        [
         34,
         null
        ],
        [
         65,
         null
        ],
        [
         47,
         false
        ],
        [
         48,
         false
        ],
        [
         39,
         false
        ],
        [
         42,
         null
        ],
        [
         66,
         null
        ],
        [
         55,
         true
        ],
        [
         49,
         false
        ],
        [
         52,
         false
        ],
        [
         45,
         false
        ],
        [
         63,
         null
        ],
        [
         46,
         false
        ],
        [
         33,
         true
        ],
        [
         41,
         false
        ],
        [
         66,
         true
        ],
        [
         55,
         true
        ],
        [
         51,
         true
        ],
        [
         49,
         true
        ],
        [
         45,
         false
        ],
        [
         33,
         true
        ],
        [
         34,
         true
        ],
        [
         65,
         true
        ],
        [
         47,
         false
        ],
        [
         39,
         true
        ],
        [
         35,
         null
        ],
        [
         42,
         true
        ],
        [
         52,
         null
        ],
        [
         36,
         false
        ],
        [
         63,
         null
        ],
        [
         46,
         null
        ],
        [
         40,
         null
        ],
        [
         50,
         true
        ],
        [
         41,
         false
        ],
        [
         48,
         true
        ],
        [
         66,
         false
        ],
        [
         55,
         true
        ],
        [
         51,
         true
        ],
        [
         49,
         null
        ],
        [
         45,
         true
        ],
        [
         33,
         true
        ],
        [
         34,
         null
        ],
        [
         65,
         true
        ],
        [
         47,
         true
        ],
        [
         39,
         true
        ],
        [
         35,
         null
        ],
        [
         42,
         null
        ],
        [
         52,
         null
        ],
        [
         36,
         true
        ],
        [
         63,
         false
        ],
        [
         46,
         true
        ],
        [
         40,
         true
        ],
        [
         50,
         true
        ],
        [
         41,
         false
        ],
        [
         48,
         null
        ],
        [
         66,
         false
        ],
        [
         55,
         null
        ],
        [
         51,
         false
        ],
        [
         49,
         false
        ],
        [
         45,
         true
        ],
        [
         33,
         true
        ],
        [
         34,
         false
        ],
        [
         65,
         null
        ],
        [
         47,
         true
        ],
        [
         39,
         false
        ],
        [
         35,
         false
        ],
        [
         52,
         null
        ],
        [
         45,
         false
        ],
        [
         36,
         null
        ],
        [
         63,
         true
        ],
        [
         46,
         false
        ],
        [
         33,
         true
        ],
        [
         34,
         true
        ],
        [
         47,
         true
        ],
        [
         48,
         true
        ],
        [
         42,
         true
        ],
        [
         66,
         true
        ],
        [
         55,
         true
        ],
        [
         51,
         true
        ],
        [
         49,
         true
        ],
        [
         40,
         true
        ],
        [
         50,
         true
        ],
        [
         65,
         null
        ],
        [
         41,
         true
        ],
        [
         39,
         true
        ],
        [
         35,
         true
        ],
        [
         52,
         false
        ],
        [
         45,
         true
        ],
        [
         36,
         false
        ],
        [
         63,
         null
        ],
        [
         46,
         false
        ],
        [
         33,
         null
        ],
        [
         34,
         true
        ],
        [
         47,
         true
        ],
        [
         48,
         null
        ],
        [
         42,
         true
        ],
        [
         66,
         true
        ],
        [
         55,
         null
        ],
        [
         51,
         true
        ],
        [
         49,
         null
        ],
        [
         40,
         true
        ],
        [
         50,
         true
        ],
        [
         65,
         false
        ],
        [
         41,
         null
        ],
        [
         39,
         false
        ],
        [
         35,
         true
        ],
        [
         42,
         true
        ],
        [
         51,
         null
        ],
        [
         49,
         false
        ],
        [
         52,
         true
        ],
        [
         45,
         null
        ],
        [
         50,
         true
        ],
        [
         34,
         true
        ],
        [
         65,
         null
        ],
        [
         48,
         true
        ],
        [
         66,
         true
        ],
        [
         55,
         false
        ],
        [
         36,
         false
        ],
        [
         63,
         false
        ],
        [
         46,
         false
        ],
        [
         40,
         null
        ],
        [
         33,
         true
        ],
        [
         41,
         false
        ],
        [
         47,
         true
        ],
        [
         39,
         true
        ],
        [
         66,
         true
        ],
        [
         49,
         false
        ],
        [
         45,
         false
        ],
        [
         63,
         false
        ],
        [
         50,
         true
        ],
        [
         65,
         false
        ],
        [
         41,
         false
        ],
        [
         47,
         false
        ],
        [
         48,
         null
        ],
        [
         39,
         true
        ],
        [
         35,
         false
        ],
        [
         42,
         null
        ],
        [
         55,
         null
        ],
        [
         51,
         null
        ],
        [
         52,
         null
        ],
        [
         36,
         true
        ],
        [
         46,
         true
        ],
        [
         40,
         true
        ],
        [
         33,
         true
        ],
        [
         34,
         true
        ],
        [
         45,
         false
        ],
        [
         63,
         null
        ],
        [
         65,
         true
        ],
        [
         47,
         null
        ],
        [
         48,
         false
        ],
        [
         39,
         true
        ],
        [
         66,
         true
        ],
        [
         49,
         false
        ],
        [
         41,
         false
        ],
        [
         50,
         true
        ],
        [
         35,
         true
        ],
        [
         42,
         true
        ],
        [
         55,
         true
        ],
        [
         51,
         true
        ],
        [
         52,
         true
        ],
        [
         36,
         false
        ],
        [
         46,
         null
        ],
        [
         40,
         true
        ],
        [
         33,
         true
        ],
        [
         34,
         true
        ],
        [
         35,
         false
        ],
        [
         51,
         false
        ],
        [
         36,
         true
        ],
        [
         40,
         true
        ],
        [
         50,
         true
        ],
        [
         34,
         false
        ],
        [
         65,
         true
        ],
        [
         47,
         true
        ],
        [
         48,
         true
        ],
        [
         39,
         true
        ],
        [
         42,
         false
        ],
        [
         66,
         true
        ],
        [
         55,
         true
        ],
        [
         49,
         null
        ],
        [
         52,
         true
        ],
        [
         45,
         false
        ],
        [
         63,
         null
        ],
        [
         46,
         false
        ],
        [
         33,
         true
        ],
        [
         41,
         false
        ],
        [
         35,
         false
        ],
        [
         51,
         true
        ],
        [
         36,
         null
        ],
        [
         40,
         null
        ],
        [
         50,
         true
        ],
        [
         34,
         null
        ],
        [
         65,
         true
        ],
        [
         47,
         false
        ],
        [
         48,
         true
        ],
        [
         39,
         null
        ],
        [
         42,
         true
        ],
        [
         66,
         true
        ],
        [
         55,
         true
        ],
        [
         49,
         null
        ],
        [
         52,
         null
        ],
        [
         45,
         true
        ],
        [
         63,
         false
        ],
        [
         46,
         true
        ],
        [
         33,
         true
        ],
        [
         41,
         null
        ]
       ],
       "datasetInfos": [],
       "dbfsResultPath": null,
       "isJsonSchema": true,
       "metadata": {
        "dataframeName": "_sqldf",
        "executionCount": 15
       },
       "overflow": false,
       "plotOptions": {
        "customPlotOptions": {},
        "displayType": "table",
        "pivotAggregation": null,
        "pivotColumns": null,
        "xColumns": null,
        "yColumns": null
       },
       "removedWidgets": [],
       "schema": [
        {
         "metadata": "{}",
         "name": "teams_home_id",
         "type": "\"integer\""
        },
        {
         "metadata": "{}",
         "name": "teams_home_winner",
         "type": "\"boolean\""
        }
       ],
       "type": "table"
      }
     },
     "output_type": "display_data"
    }
   ],
   "source": [
    "%sql\n",
    "select teams_home_id,teams_home_winner\n",
    "from pl_results"
   ]
  },
  {
   "cell_type": "code",
   "execution_count": 0,
   "metadata": {
    "application/vnd.databricks.v1+cell": {
     "cellMetadata": {
      "byteLimit": 2048000,
      "rowLimit": 10000
     },
     "inputWidgets": {},
     "nuid": "59b16a52-fc9b-4b81-ad6a-096940462a54",
     "showTitle": false,
     "title": ""
    },
    "jupyter": {
     "outputs_hidden": true
    }
   },
   "outputs": [
    {
     "output_type": "stream",
     "name": "stdout",
     "output_type": "stream",
     "text": [
      "+----------+-------------------+---------------+\n|fixture_id|       fixture_date|teams_home_name|\n+----------+-------------------+---------------+\n|    867962|2022-08-13 14:00:00|Manchester City|\n|    867982|2022-08-27 14:00:00|Manchester City|\n|    867995|2022-08-31 18:30:00|Manchester City|\n|    868013|2023-01-19 20:00:00|Manchester City|\n|    868033|2022-10-02 13:00:00|Manchester City|\n|    868042|2022-10-08 14:00:00|Manchester City|\n|    868070|2022-10-22 14:00:00|Manchester City|\n|    868090|2022-11-05 15:00:00|Manchester City|\n|    868153|2023-01-22 14:00:00|Manchester City|\n|    868173|2023-02-12 16:30:00|Manchester City|\n+----------+-------------------+---------------+\nonly showing top 10 rows\n\n"
     ]
    }
   ],
   "source": [
    "#4\n",
    "pl_results_df.select(\"fixture_id\",\"fixture_date\",\"teams_home_name\")\\\n",
    ".where(\"teams_home_name == 'Manchester City' and teams_home_winner == true\")\\\n",
    ".show(10)"
   ]
  },
  {
   "cell_type": "code",
   "execution_count": 0,
   "metadata": {
    "application/vnd.databricks.v1+cell": {
     "cellMetadata": {
      "byteLimit": 2048000,
      "rowLimit": 10000
     },
     "inputWidgets": {},
     "nuid": "47094bc1-3f15-45b9-a14b-7d10dbb12583",
     "showTitle": false,
     "title": ""
    },
    "jupyter": {
     "outputs_hidden": true
    }
   },
   "outputs": [
    {
     "output_type": "execute_result",
     "data": {
      "text/plain": [
       "87"
      ]
     },
     "execution_count": 26,
     "metadata": {},
     "output_type": "execute_result"
    }
   ],
   "source": [
    "#6 Games that ended in a draw\n",
    "pl_results_df.filter((pl_results_df.teams_home_winner.isNull())& (pl_results_df.teams_away_winner.isNull())).count()"
   ]
  },
  {
   "cell_type": "code",
   "execution_count": 0,
   "metadata": {
    "application/vnd.databricks.v1+cell": {
     "cellMetadata": {
      "byteLimit": 2048000,
      "rowLimit": 10000
     },
     "inputWidgets": {},
     "nuid": "88b1234b-5c8b-4d6e-9bac-2e158d51275a",
     "showTitle": false,
     "title": ""
    },
    "jupyter": {
     "outputs_hidden": true
    }
   },
   "outputs": [
    {
     "output_type": "stream",
     "name": "stdout",
     "output_type": "stream",
     "text": [
      "+-----+----------+-------------------+-------------+---------------+-----------------+-------------+-----------------+-----------------+----------+----------+\n|sl_no|fixture_id|       fixture_date|teams_home_id|teams_home_name|teams_home_winner|teams_away_id|  teams_away_name|teams_away_winner|goals_home|goals_away|\n+-----+----------+-------------------+-------------+---------------+-----------------+-------------+-----------------+-----------------+----------+----------+\n|   35|    867981|2022-08-27 14:00:00|           40|      Liverpool|             true|           35|      Bournemouth|            false|         9|         0|\n|   49|    867995|2022-08-31 18:30:00|           50|Manchester City|             true|           65|Nottingham Forest|            false|         6|         0|\n|  255|    868201|2023-03-05 16:30:00|           40|      Liverpool|             true|           33|Manchester United|            false|         7|         0|\n|  333|    868279|2023-04-29 14:00:00|           51|       Brighton|             true|           39|           Wolves|            false|         6|         0|\n+-----+----------+-------------------+-------------+---------------+-----------------+-------------+-----------------+-----------------+----------+----------+\n\n"
     ]
    }
   ],
   "source": [
    "#7 Games where more than 5 goals were scored by home team and 0 by away team\n",
    "pl_results_df.filter((pl_results_df.goals_home > 5 )& (pl_results_df.goals_away == 0)).show()"
   ]
  },
  {
   "cell_type": "code",
   "execution_count": 0,
   "metadata": {
    "application/vnd.databricks.v1+cell": {
     "cellMetadata": {
      "byteLimit": 2048000,
      "rowLimit": 10000
     },
     "inputWidgets": {},
     "nuid": "3dde9cf5-8c45-4f85-88ee-7422678e7eca",
     "showTitle": false,
     "title": ""
    },
    "jupyter": {
     "outputs_hidden": true
    }
   },
   "outputs": [
    {
     "output_type": "stream",
     "name": "stdout",
     "output_type": "stream",
     "text": [
      "+------------+--------------+\n|home_team_id|home_team_name|\n+------------+--------------+\n|          52|Crystal Palace|\n|          36|        Fulham|\n|          35|   Bournemouth|\n|          63|         Leeds|\n|          46|     Leicester|\n+------------+--------------+\nonly showing top 5 rows\n\n"
     ]
    }
   ],
   "source": [
    "pl_home_team_stats_df.select(\"home_team_id\",\"home_team_name\").show(5)"
   ]
  },
  {
   "cell_type": "code",
   "execution_count": 0,
   "metadata": {
    "application/vnd.databricks.v1+cell": {
     "cellMetadata": {},
     "inputWidgets": {},
     "nuid": "fec5782d-c42b-4535-899f-94b057a5941c",
     "showTitle": false,
     "title": ""
    }
   },
   "outputs": [],
   "source": [
    "#for filter based functions check this link : sparkbyexamples"
   ]
  },
  {
   "cell_type": "code",
   "execution_count": 0,
   "metadata": {
    "application/vnd.databricks.v1+cell": {
     "cellMetadata": {
      "byteLimit": 2048000,
      "rowLimit": 10000
     },
     "inputWidgets": {},
     "nuid": "d15f8364-cb9c-4bf5-93ca-f79540bfd689",
     "showTitle": false,
     "title": ""
    },
    "jupyter": {
     "outputs_hidden": true
    }
   },
   "outputs": [
    {
     "output_type": "stream",
     "name": "stdout",
     "output_type": "stream",
     "text": [
      "+---------------+---------------+-------------+\n|teams_home_name|teams_away_name|Shots_On_Goal|\n+---------------+---------------+-------------+\n|        Chelsea|Manchester City|            2|\n+---------------+---------------+-------------+\n\n"
     ]
    }
   ],
   "source": [
    "#8\n",
    "pl_results_df.join(pl_home_team_stats_df, pl_home_team_stats_df.fixture_id == pl_results_df.fixture_id, \"inner\").where(\"teams_home_name='Chelsea' and teams_away_name='Manchester City'\").select(\"teams_home_name\",\"teams_away_name\",\"Shots_On_Goal\").show(2)"
   ]
  },
  {
   "cell_type": "code",
   "execution_count": 0,
   "metadata": {
    "application/vnd.databricks.v1+cell": {
     "cellMetadata": {
      "byteLimit": 2048000,
      "rowLimit": 10000
     },
     "inputWidgets": {},
     "nuid": "8760a194-7ed6-4c1a-9507-62374d87e54d",
     "showTitle": false,
     "title": ""
    },
    "jupyter": {
     "outputs_hidden": true
    }
   },
   "outputs": [
    {
     "output_type": "display_data",
     "data": {
      "text/html": [
       "<div class = \"ansiout\">\n",
       "Provides utilities for leveraging secrets within notebooks.\n",
       "Databricks documentation for more info.\n",
       "    <h3></h3><b>get(scope: String, key: String): String</b> -> Gets the string representation of a secret value with scope and key<br /><b>getBytes(scope: String, key: String): byte[]</b> -> Gets the bytes representation of a secret value with scope and key<br /><b>list(scope: String): Seq</b> -> Lists secret metadata for secrets within a scope<br /><b>listScopes: Seq</b> -> Lists secret scopes<br /><br /></div>"
      ]
     },
     "metadata": {
      "application/vnd.databricks.v1+output": {
       "addedWidgets": {},
       "arguments": {},
       "data": "<div class = \"ansiout\">\nProvides utilities for leveraging secrets within notebooks.\nDatabricks documentation for more info.\n    <h3></h3><b>get(scope: String, key: String): String</b> -> Gets the string representation of a secret value with scope and key<br /><b>getBytes(scope: String, key: String): byte[]</b> -> Gets the bytes representation of a secret value with scope and key<br /><b>list(scope: String): Seq</b> -> Lists secret metadata for secrets within a scope<br /><b>listScopes: Seq</b> -> Lists secret scopes<br /><br /></div>",
       "datasetInfos": [],
       "metadata": {},
       "removedWidgets": [],
       "textData": null,
       "type": "htmlSandbox"
      }
     },
     "output_type": "display_data"
    }
   ],
   "source": [
    "#dbutils.fs.help()\n",
    "#dbutils.notebook.help()\n",
    "#dbutils.widgets.help()\n",
    "#dbutils.secrets.help()"
   ]
  },
  {
   "cell_type": "code",
   "execution_count": 0,
   "metadata": {
    "application/vnd.databricks.v1+cell": {
     "cellMetadata": {
      "byteLimit": 2048000,
      "rowLimit": 10000
     },
     "inputWidgets": {},
     "nuid": "5f69a8ca-d498-4745-9cf0-447ba4a5de40",
     "showTitle": false,
     "title": ""
    },
    "jupyter": {
     "outputs_hidden": true
    }
   },
   "outputs": [
    {
     "output_type": "stream",
     "name": "stdout",
     "output_type": "stream",
     "text": [
      "Out[1]: [FileInfo(path='dbfs:/FileStore/tables/2023_away_teams_stats.csv', name='2023_away_teams_stats.csv', size=31608, modificationTime=1691758035000),\n FileInfo(path='dbfs:/FileStore/tables/2023_home_teams_stats.csv', name='2023_home_teams_stats.csv', size=24720, modificationTime=1691757868000),\n FileInfo(path='dbfs:/FileStore/tables/2023_matchday_results-1.csv', name='2023_matchday_results-1.csv', size=29465, modificationTime=1688792103000),\n FileInfo(path='dbfs:/FileStore/tables/2023_matchday_results-1.parquet/', name='2023_matchday_results-1.parquet/', size=0, modificationTime=0),\n FileInfo(path='dbfs:/FileStore/tables/2023_matchday_results-2.csv', name='2023_matchday_results-2.csv', size=29465, modificationTime=1688793405000),\n FileInfo(path='dbfs:/FileStore/tables/2023_matchday_results.csv', name='2023_matchday_results.csv', size=29465, modificationTime=1687782892000),\n FileInfo(path='dbfs:/FileStore/tables/Movies-1.xlsx', name='Movies-1.xlsx', size=32021, modificationTime=1692631744000),\n FileInfo(path='dbfs:/FileStore/tables/Movies.csv', name='Movies.csv', size=506, modificationTime=1692630258000),\n FileInfo(path='dbfs:/FileStore/tables/Movies.xlsx', name='Movies.xlsx', size=32021, modificationTime=1692630481000),\n FileInfo(path='dbfs:/FileStore/tables/Movies___movie_cast.csv', name='Movies___movie_cast.csv', size=506, modificationTime=1692721613000),\n FileInfo(path='dbfs:/FileStore/tables/Movies___rating.csv', name='Movies___rating.csv', size=407, modificationTime=1692721950000)]"
     ]
    }
   ],
   "source": [
    "dbutils.fs.ls(\"/FileStore/tables\")\n",
    "#dbutils.fs.head(\"/FileStore/tables/2023_home_teams_stats.csv\")\n",
    "#COPY, MKDIRS, MV, PUT, RM"
   ]
  },
  {
   "cell_type": "code",
   "execution_count": 0,
   "metadata": {
    "application/vnd.databricks.v1+cell": {
     "cellMetadata": {
      "byteLimit": 2048000,
      "rowLimit": 10000
     },
     "inputWidgets": {},
     "nuid": "0d21c627-78c1-4a2b-921c-428994083fbf",
     "showTitle": false,
     "title": ""
    },
    "jupyter": {
     "outputs_hidden": true
    }
   },
   "outputs": [],
   "source": [
    "#9 Storing in Parquet format\n",
    "pl_results_df.write.parquet(\"/FileStore/tables/2023_matchday_results-1.parquet\")"
   ]
  },
  {
   "cell_type": "code",
   "execution_count": 0,
   "metadata": {
    "application/vnd.databricks.v1+cell": {
     "cellMetadata": {
      "byteLimit": 2048000,
      "rowLimit": 10000
     },
     "inputWidgets": {},
     "nuid": "114f1d6f-452e-4767-ae5f-cd313aacb029",
     "showTitle": false,
     "title": ""
    },
    "jupyter": {
     "outputs_hidden": true
    }
   },
   "outputs": [],
   "source": [
    "# Retrieving parquet format\n",
    "p_df = spark.read.parquet(\"/FileStore/tables/2023_matchday_results-1.parquet\")"
   ]
  },
  {
   "cell_type": "code",
   "execution_count": 0,
   "metadata": {
    "application/vnd.databricks.v1+cell": {
     "cellMetadata": {
      "byteLimit": 2048000,
      "rowLimit": 10000
     },
     "inputWidgets": {},
     "nuid": "f054b8fd-8c12-4977-9fb8-1905b76a5f9f",
     "showTitle": false,
     "title": ""
    },
    "jupyter": {
     "outputs_hidden": true
    }
   },
   "outputs": [
    {
     "output_type": "stream",
     "name": "stdout",
     "output_type": "stream",
     "text": [
      "root\n |-- sl_no: integer (nullable = true)\n |-- fixture_id: integer (nullable = true)\n |-- fixture_date: timestamp (nullable = true)\n |-- teams_home_id: integer (nullable = true)\n |-- teams_home_name: string (nullable = true)\n |-- teams_home_winner: boolean (nullable = true)\n |-- teams_away_id: integer (nullable = true)\n |-- teams_away_name: string (nullable = true)\n |-- teams_away_winner: boolean (nullable = true)\n |-- goals_home: integer (nullable = true)\n |-- goals_away: integer (nullable = true)\n\n"
     ]
    }
   ],
   "source": [
    "#p_df.count()\n",
    "pl_results_df.printSchema()"
   ]
  },
  {
   "cell_type": "code",
   "execution_count": 0,
   "metadata": {
    "application/vnd.databricks.v1+cell": {
     "cellMetadata": {
      "byteLimit": 2048000,
      "rowLimit": 10000
     },
     "inputWidgets": {},
     "nuid": "67062f23-cd80-4cbc-89b8-aa49e9be64e6",
     "showTitle": false,
     "title": ""
    },
    "jupyter": {
     "outputs_hidden": true
    }
   },
   "outputs": [
    {
     "output_type": "stream",
     "name": "stdout",
     "output_type": "stream",
     "text": [
      "{\"sl_no\":0,\"fixture_id\":867946,\"fixture_date\":\"2022-08-05T19:00:00.000Z\",\"teams_home_id\":52,\"teams_home_name\":\"Crystal Palace\",\"teams_home_winner\":false,\"teams_away_id\":42,\"teams_away_name\":\"Arsenal\",\"teams_away_winner\":true,\"goals_home\":0,\"goals_away\":2}\n"
     ]
    }
   ],
   "source": [
    "#10\n",
    "from pyspark.sql.functions import *\n",
    "from pyspark.sql.types import *\n",
    "from pyspark.sql import SparkSession\n",
    "\n",
    "# Create a SparkSession\n",
    "spark = SparkSession.builder.appName(\"JSON Creation\").getOrCreate()\n",
    "\n",
    "# Define the PySpark DataFrame schema\n",
    "schema = StructType([\n",
    "\tStructField(\"name\", StringType()),\n",
    "\tStructField(\"age\", IntegerType()),\n",
    "\tStructField(\"city\", StringType())\n",
    "])\n",
    "\n",
    "# Create a PySpark DataFrame\n",
    "data = [(\"Shyam\", 25, \"New York\"),\n",
    "\t\t(\"Ram\", 30, \"San Francisco\")]\n",
    "df = spark.createDataFrame(data, schema)\n",
    "\n",
    "# Convert the PySpark DataFrame to a JSON string\n",
    "json_string = df.toJSON().collect()\n",
    "\n",
    "pl_result_json = pl_results_df.toJSON().collect()[0]\n",
    "\n",
    "print(pl_result_json)"
   ]
  },
  {
   "cell_type": "code",
   "execution_count": 0,
   "metadata": {
    "application/vnd.databricks.v1+cell": {
     "cellMetadata": {
      "byteLimit": 2048000,
      "rowLimit": 10000
     },
     "inputWidgets": {},
     "nuid": "3b6f425f-f5f4-4057-ac8e-faf306786089",
     "showTitle": false,
     "title": ""
    },
    "jupyter": {
     "outputs_hidden": true
    }
   },
   "outputs": [
    {
     "output_type": "stream",
     "name": "stdout",
     "output_type": "stream",
     "text": [
      "+-----------------+-----------------+\n|  teams_home_name|total Goal Scored|\n+-----------------+-----------------+\n|          Arsenal|               78|\n|      Aston Villa|               54|\n|      Bournemouth|               48|\n|        Brentford|               53|\n|         Brighton|               58|\n|          Chelsea|               39|\n|   Crystal Palace|               44|\n|          Everton|               43|\n|           Fulham|               60|\n|            Leeds|               63|\n|        Leicester|               50|\n|        Liverpool|               63|\n|  Manchester City|               77|\n|Manchester United|               46|\n|        Newcastle|               50|\n|Nottingham Forest|               51|\n|      Southampton|               56|\n|        Tottenham|               62|\n|         West Ham|               50|\n|           Wolves|               39|\n+-----------------+-----------------+\n\n"
     ]
    }
   ],
   "source": [
    "#11 Total goals scored by each teams when played at home stadium\n",
    "from pyspark.sql.functions import *\n",
    "from pyspark.sql.types import *\n",
    "#pl_results_df.groupBy(\"teams_home_name\").agg(avg(\"goals_home\")).orderBy(\"teams_home_name\").collect()\n",
    "pl_results_df.groupBy(\"teams_home_name\").agg((sum(\"goals_home\")+sum(\"goals_away\")).alias(\"total Goal Scored\")).orderBy(\"teams_home_name\").show()\n"
   ]
  },
  {
   "cell_type": "code",
   "execution_count": 0,
   "metadata": {
    "application/vnd.databricks.v1+cell": {
     "cellMetadata": {
      "byteLimit": 2048000,
      "rowLimit": 10000
     },
     "inputWidgets": {},
     "nuid": "536efe3f-0658-4f0a-b423-37a545b09257",
     "showTitle": false,
     "title": ""
    },
    "jupyter": {
     "outputs_hidden": true
    }
   },
   "outputs": [
    {
     "output_type": "stream",
     "name": "stdout",
     "output_type": "stream",
     "text": [
      "+----------+---------------+---------------+\n|fixture_id|teams_home_name|teams_away_name|\n+----------+---------------+---------------+\n|    867946| Crystal Palace|        Arsenal|\n|    867947|         Fulham|      Liverpool|\n|    867948|    Bournemouth|    Aston Villa|\n|    867949|          Leeds|         Wolves|\n|    867950|      Leicester|      Brentford|\n+----------+---------------+---------------+\nonly showing top 5 rows\n\n"
     ]
    }
   ],
   "source": [
    "#12\n",
    "pl_results_df.alias(\"pl_results\").join(\n",
    "pl_home_team_stats_df.alias(\"home_team_stats\"),col(\"pl_results.fixture_id\") == col(\"home_team_stats.fixture_id\"),\n",
    "\"inner\").select(\"home_team_stats.fixture_id\",\"pl_results.teams_home_name\",\"pl_results.teams_away_name\").show(5)"
   ]
  },
  {
   "cell_type": "code",
   "execution_count": 0,
   "metadata": {
    "application/vnd.databricks.v1+cell": {
     "cellMetadata": {
      "byteLimit": 2048000,
      "rowLimit": 10000
     },
     "inputWidgets": {},
     "nuid": "45bd22e6-3cce-4ac7-8a5b-c68ef97a6082",
     "showTitle": false,
     "title": ""
    },
    "jupyter": {
     "outputs_hidden": true
    }
   },
   "outputs": [
    {
     "output_type": "stream",
     "name": "stdout",
     "output_type": "stream",
     "text": [
      "+-----------------+-----------+\n|  teams_home_name|total_shots|\n+-----------------+-----------+\n|        Tottenham|      289.0|\n|         Brighton|      351.0|\n|Manchester United|      343.0|\n|          Arsenal|      354.0|\n|        Brentford|      238.0|\n|   Crystal Palace|      232.0|\n|        Leicester|      211.0|\n|      Aston Villa|      226.0|\n|  Manchester City|      317.0|\n|      Bournemouth|      198.0|\n|           Fulham|      239.0|\n|         West Ham|      263.0|\n|Nottingham Forest|      194.0|\n|           Wolves|      212.0|\n|      Southampton|      228.0|\n|        Liverpool|      328.0|\n|          Chelsea|      260.0|\n|        Newcastle|      343.0|\n|          Everton|      232.0|\n|            Leeds|      252.0|\n+-----------------+-----------+\n\n"
     ]
    }
   ],
   "source": [
    "#13 Total shots taken by each teams in entire season when playing at home\n",
    "pl_results_df.alias(\"pl_results\") \\\n",
    ".join(pl_home_team_stats_df.alias(\"home_team_stats\") \\\n",
    "      ,col(\"pl_results.fixture_id\") == col(\"home_team_stats.fixture_id\"), \\\n",
    "      \"inner\") \\\n",
    "      .groupBy(\"pl_results.teams_home_name\") \\\n",
    "      .agg(sum(pl_home_team_stats_df.Total_Shots).alias(\"total_shots\")) \\\n",
    "      .show()"
   ]
  },
  {
   "cell_type": "code",
   "execution_count": 0,
   "metadata": {
    "application/vnd.databricks.v1+cell": {
     "cellMetadata": {
      "byteLimit": 2048000,
      "rowLimit": 10000
     },
     "inputWidgets": {},
     "nuid": "020ecea0-8fba-4602-9bb0-7567b800da73",
     "showTitle": false,
     "title": ""
    },
    "jupyter": {
     "outputs_hidden": true
    }
   },
   "outputs": [
    {
     "output_type": "stream",
     "name": "stdout",
     "output_type": "stream",
     "text": [
      "+----------+---------------+---------------+\n|fixture_id|teams_home_name|teams_away_name|\n+----------+---------------+---------------+\n|    867946| Crystal Palace|        Arsenal|\n|    867947|         Fulham|      Liverpool|\n|    867948|    Bournemouth|    Aston Villa|\n|    867949|          Leeds|         Wolves|\n|    867950|      Leicester|      Brentford|\n+----------+---------------+---------------+\nonly showing top 5 rows\n\n"
     ]
    }
   ],
   "source": [
    "#14\n",
    "pl_results_df.alias(\"pl_results\").join(\n",
    "pl_home_team_stats_df.alias(\"home_team_stats\"),col(\"pl_results.fixture_id\") == col(\"home_team_stats.fixture_id\"),\n",
    "\"inner\").select(\"home_team_stats.fixture_id\",\"pl_results.teams_home_name\",\"pl_results.teams_away_name\").show(5)"
   ]
  },
  {
   "cell_type": "code",
   "execution_count": 0,
   "metadata": {
    "application/vnd.databricks.v1+cell": {
     "cellMetadata": {
      "byteLimit": 2048000,
      "rowLimit": 10000
     },
     "inputWidgets": {},
     "nuid": "460b399c-1851-4432-b0c5-db6a4b341526",
     "showTitle": false,
     "title": ""
    },
    "jupyter": {
     "outputs_hidden": true
    }
   },
   "outputs": [
    {
     "output_type": "stream",
     "name": "stdout",
     "output_type": "stream",
     "text": [
      "+-----------------+-----------+\n|  teams_home_name|Total_Fouls|\n+-----------------+-----------+\n|          Arsenal|      408.0|\n|      Aston Villa|      427.0|\n|      Bournemouth|      397.0|\n|        Brentford|      371.0|\n|         Brighton|      425.0|\n|          Chelsea|      429.0|\n|   Crystal Palace|      471.0|\n|          Everton|      390.0|\n|           Fulham|      410.0|\n|            Leeds|      461.0|\n|        Leicester|      427.0|\n|        Liverpool|      392.0|\n|  Manchester City|      374.0|\n|Manchester United|      374.0|\n|        Newcastle|      427.0|\n|Nottingham Forest|      447.0|\n|      Southampton|      402.0|\n|        Tottenham|      416.0|\n|         West Ham|      317.0|\n|           Wolves|      429.0|\n+-----------------+-----------+\n\n"
     ]
    }
   ],
   "source": [
    "#15 Total fould committed by each team in the entire season both home and away\n",
    "from pyspark.sql.functions import *\n",
    "from pyspark.sql.types import *\n",
    "result = pl_results_df.alias(\"pl_results\") \\\n",
    ".join(pl_home_team_stats_df.alias(\"home_team_stats\") \\\n",
    "      ,col(\"pl_results.fixture_id\") == col(\"home_team_stats.fixture_id\") \\\n",
    "      ,\"inner\") \\\n",
    "        .join(pl_away_teams_stats_df.alias(\"away_team_stats\") \\\n",
    "        ,col(\"away_team_stats.fixture_id\")==col(\"pl_results.fixture_id\") \\\n",
    "        ,\"inner\") \\\n",
    "      .groupBy(\"pl_results.teams_home_name\") \\\n",
    "     .agg((sum(\"home_team_stats.Fouls\")+sum(\"away_team_stats.Fouls\")).alias(\"Total_Fouls\")) \\\n",
    "      .orderBy(\"pl_results.teams_home_name\").show()\n",
    "    #.withColumnRenamed(\"sum(home_team_stats.Fouls)+sum(away_team_stats.Fouls)\",\"Total_Fouls\").show()\n",
    "#result.printSchema()\n",
    "#result.select(col(\"sum(home_team_stats.Fouls) + sum(away_team_stats.Fouls)\")).show()"
   ]
  },
  {
   "cell_type": "code",
   "execution_count": 0,
   "metadata": {
    "application/vnd.databricks.v1+cell": {
     "cellMetadata": {
      "byteLimit": 2048000,
      "rowLimit": 10000
     },
     "inputWidgets": {},
     "nuid": "4629c873-dff3-4a74-9435-501cb7b95261",
     "showTitle": false,
     "title": ""
    },
    "jupyter": {
     "outputs_hidden": true
    }
   },
   "outputs": [
    {
     "output_type": "stream",
     "name": "stdout",
     "output_type": "stream",
     "text": [
      "+-----------------+------------------+\n|  teams_home_name|         avg_goals|\n+-----------------+------------------+\n|  Manchester City|3.1578947368421053|\n|          Arsenal| 2.789473684210526|\n|        Liverpool|2.4210526315789473|\n|        Tottenham|1.9473684210526316|\n|         Brighton|1.9473684210526316|\n|Manchester United| 1.894736842105263|\n|        Newcastle| 1.894736842105263|\n|        Brentford|1.8421052631578947|\n|      Aston Villa| 1.736842105263158|\n|           Fulham| 1.631578947368421|\n|Nottingham Forest|1.4210526315789473|\n|         West Ham| 1.368421052631579|\n|            Leeds| 1.368421052631579|\n|        Leicester|1.2105263157894737|\n|   Crystal Palace| 1.105263157894737|\n|      Bournemouth|1.0526315789473684|\n|          Chelsea|1.0526315789473684|\n+-----------------+------------------+\n\n"
     ]
    }
   ],
   "source": [
    "#16 average goals scored by team playing at home, threshold be 1\n",
    "threshold=1\n",
    "result = pl_results_df.groupBy(\"teams_home_name\").agg(avg(\"goals_home\").alias(\"avg_goals\")).filter(col(\"avg_goals\") > threshold).orderBy(col(\"avg_goals\").desc())\n",
    "result.show()"
   ]
  }
 ],
 "metadata": {
  "application/vnd.databricks.v1+notebook": {
   "dashboards": [],
   "language": "python",
   "notebookMetadata": {
    "mostRecentlyExecutedCommandWithImplicitDF": {
     "commandId": 1087127148891183,
     "dataframes": [
      "_sqldf"
     ]
    },
    "pythonIndentUnit": 4
   },
   "notebookName": "Premier League 2023 Results Analysis",
   "widgets": {}
  }
 },
 "nbformat": 4,
 "nbformat_minor": 0
}
